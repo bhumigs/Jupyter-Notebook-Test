{
 "cells": [
  {
   "cell_type": "code",
   "execution_count": 1,
   "id": "6129c389-2f2a-404d-a650-1d4bcc526e98",
   "metadata": {},
   "outputs": [],
   "source": [
    "import pandas as pd"
   ]
  },
  {
   "cell_type": "code",
   "execution_count": 2,
   "id": "56c10354-aa4b-4fa5-8765-ae7c8bac392b",
   "metadata": {},
   "outputs": [],
   "source": [
    "df=pd.read_csv(\"Training.csv\")"
   ]
  },
  {
   "cell_type": "code",
   "execution_count": 3,
   "id": "9bea08c0-b8f5-464a-bbfe-fb944c9d2032",
   "metadata": {},
   "outputs": [
    {
     "data": {
      "text/plain": [
       "<bound method NDFrame.head of       itching  skin_rash  nodal_skin_eruptions  continuous_sneezing  \\\n",
       "0           1          1                     1                    0   \n",
       "1           0          1                     1                    0   \n",
       "2           1          0                     1                    0   \n",
       "3           1          1                     0                    0   \n",
       "4           1          1                     1                    0   \n",
       "...       ...        ...                   ...                  ...   \n",
       "4915        0          0                     0                    0   \n",
       "4916        0          1                     0                    0   \n",
       "4917        0          0                     0                    0   \n",
       "4918        0          1                     0                    0   \n",
       "4919        0          1                     0                    0   \n",
       "\n",
       "      shivering  chills  joint_pain  stomach_pain  acidity  ulcers_on_tongue  \\\n",
       "0             0       0           0             0        0                 0   \n",
       "1             0       0           0             0        0                 0   \n",
       "2             0       0           0             0        0                 0   \n",
       "3             0       0           0             0        0                 0   \n",
       "4             0       0           0             0        0                 0   \n",
       "...         ...     ...         ...           ...      ...               ...   \n",
       "4915          0       0           0             0        0                 0   \n",
       "4916          0       0           0             0        0                 0   \n",
       "4917          0       0           0             0        0                 0   \n",
       "4918          0       0           1             0        0                 0   \n",
       "4919          0       0           0             0        0                 0   \n",
       "\n",
       "      ...  blackheads  scurring  skin_peeling  silver_like_dusting  \\\n",
       "0     ...           0         0             0                    0   \n",
       "1     ...           0         0             0                    0   \n",
       "2     ...           0         0             0                    0   \n",
       "3     ...           0         0             0                    0   \n",
       "4     ...           0         0             0                    0   \n",
       "...   ...         ...       ...           ...                  ...   \n",
       "4915  ...           0         0             0                    0   \n",
       "4916  ...           1         1             0                    0   \n",
       "4917  ...           0         0             0                    0   \n",
       "4918  ...           0         0             1                    1   \n",
       "4919  ...           0         0             0                    0   \n",
       "\n",
       "      small_dents_in_nails  inflammatory_nails  blister  red_sore_around_nose  \\\n",
       "0                        0                   0        0                     0   \n",
       "1                        0                   0        0                     0   \n",
       "2                        0                   0        0                     0   \n",
       "3                        0                   0        0                     0   \n",
       "4                        0                   0        0                     0   \n",
       "...                    ...                 ...      ...                   ...   \n",
       "4915                     0                   0        0                     0   \n",
       "4916                     0                   0        0                     0   \n",
       "4917                     0                   0        0                     0   \n",
       "4918                     1                   1        0                     0   \n",
       "4919                     0                   0        1                     1   \n",
       "\n",
       "      yellow_crust_ooze                                prognosis  \n",
       "0                     0                         Fungal infection  \n",
       "1                     0                         Fungal infection  \n",
       "2                     0                         Fungal infection  \n",
       "3                     0                         Fungal infection  \n",
       "4                     0                         Fungal infection  \n",
       "...                 ...                                      ...  \n",
       "4915                  0  (vertigo) Paroymsal  Positional Vertigo  \n",
       "4916                  0                                     Acne  \n",
       "4917                  0                  Urinary tract infection  \n",
       "4918                  0                                Psoriasis  \n",
       "4919                  1                                 Impetigo  \n",
       "\n",
       "[4920 rows x 133 columns]>"
      ]
     },
     "execution_count": 3,
     "metadata": {},
     "output_type": "execute_result"
    }
   ],
   "source": [
    "df.head"
   ]
  },
  {
   "cell_type": "code",
   "execution_count": 4,
   "id": "4fb91dbd-427f-4ec5-875c-0ac83ca88b8e",
   "metadata": {},
   "outputs": [
    {
     "data": {
      "text/plain": [
       "(4920, 133)"
      ]
     },
     "execution_count": 4,
     "metadata": {},
     "output_type": "execute_result"
    }
   ],
   "source": [
    "df.shape"
   ]
  },
  {
   "cell_type": "code",
   "execution_count": 5,
   "id": "efb3bd20-2684-4739-a3ac-a87c2ffad666",
   "metadata": {},
   "outputs": [
    {
     "data": {
      "text/plain": [
       "41"
      ]
     },
     "execution_count": 5,
     "metadata": {},
     "output_type": "execute_result"
    }
   ],
   "source": [
    "len(df['prognosis'].unique())"
   ]
  },
  {
   "cell_type": "code",
   "execution_count": 6,
   "id": "94d63ccb-a937-43ad-9ae7-9367fe2a8ca7",
   "metadata": {},
   "outputs": [
    {
     "data": {
      "text/plain": [
       "array(['Fungal infection', 'Allergy', 'GERD', 'Chronic cholestasis',\n",
       "       'Drug Reaction', 'Peptic ulcer diseae', 'AIDS', 'Diabetes ',\n",
       "       'Gastroenteritis', 'Bronchial Asthma', 'Hypertension ', 'Migraine',\n",
       "       'Cervical spondylosis', 'Paralysis (brain hemorrhage)', 'Jaundice',\n",
       "       'Malaria', 'Chicken pox', 'Dengue', 'Typhoid', 'hepatitis A',\n",
       "       'Hepatitis B', 'Hepatitis C', 'Hepatitis D', 'Hepatitis E',\n",
       "       'Alcoholic hepatitis', 'Tuberculosis', 'Common Cold', 'Pneumonia',\n",
       "       'Dimorphic hemmorhoids(piles)', 'Heart attack', 'Varicose veins',\n",
       "       'Hypothyroidism', 'Hyperthyroidism', 'Hypoglycemia',\n",
       "       'Osteoarthristis', 'Arthritis',\n",
       "       '(vertigo) Paroymsal  Positional Vertigo', 'Acne',\n",
       "       'Urinary tract infection', 'Psoriasis', 'Impetigo'], dtype=object)"
      ]
     },
     "execution_count": 6,
     "metadata": {},
     "output_type": "execute_result"
    }
   ],
   "source": [
    "(df['prognosis'].unique())"
   ]
  },
  {
   "cell_type": "code",
   "execution_count": 7,
   "id": "7b38ad16-e691-4465-88cb-e4adcb12fde6",
   "metadata": {},
   "outputs": [],
   "source": [
    "from sklearn.model_selection import train_test_split\n",
    "from sklearn.preprocessing import LabelEncoder"
   ]
  },
  {
   "cell_type": "code",
   "execution_count": 8,
   "id": "1d30512c-83ae-4ab3-a815-53d286695731",
   "metadata": {},
   "outputs": [],
   "source": [
    "x= df.drop(\"prognosis\",axis=1)\n",
    "y=df['prognosis']"
   ]
  },
  {
   "cell_type": "code",
   "execution_count": 9,
   "id": "ab320891-fb39-4824-92f6-e5a6cd68b5fb",
   "metadata": {},
   "outputs": [],
   "source": [
    "from sklearn.model_selection import train_test_split\n",
    "\n",
    "x_train, x_test, y_train, y_test = train_test_split(x, y, test_size=0.3, random_state=20)"
   ]
  },
  {
   "cell_type": "code",
   "execution_count": 10,
   "id": "f9422029-de1a-4d5d-9545-2080b86e1afc",
   "metadata": {},
   "outputs": [
    {
     "data": {
      "text/plain": [
       "((3444, 132), (1476, 132), (3444,), (1476,))"
      ]
     },
     "execution_count": 10,
     "metadata": {},
     "output_type": "execute_result"
    }
   ],
   "source": [
    "x_train.shape,x_test.shape,y_train.shape,y_test.shape"
   ]
  },
  {
   "cell_type": "code",
   "execution_count": 11,
   "id": "f4f5990c-eab8-4d79-9332-7bae57e25247",
   "metadata": {},
   "outputs": [],
   "source": [
    "# Define features (all columns except prognosis)\n",
    "X = df.drop(\"prognosis\", axis=1)\n",
    "\n",
    "# Define target (prognosis column)\n",
    "y = df[\"prognosis\"]\n",
    "\n",
    "# Now do the split\n",
    "from sklearn.model_selection import train_test_split\n",
    "\n",
    "X_train, X_test, y_train, y_test = train_test_split(\n",
    "    X, y, test_size=0.3, random_state=42, shuffle=True, stratify=y\n",
    ")\n"
   ]
  },
  {
   "cell_type": "code",
   "execution_count": 12,
   "id": "1141bc55-8437-4f16-aed0-fd970a8f50d7",
   "metadata": {},
   "outputs": [],
   "source": [
    "from sklearn.model_selection import train_test_split\n",
    "\n",
    "X_train, X_test, y_train, y_test = train_test_split(\n",
    "    X, y, test_size=0.3, random_state=42, shuffle=True, stratify=y\n",
    ")\n"
   ]
  },
  {
   "cell_type": "code",
   "execution_count": 13,
   "id": "1ed9f81e-0dd6-4abd-8419-34f603027e3f",
   "metadata": {},
   "outputs": [],
   "source": [
    "import numpy as np\n",
    "\n",
    "# randomly flip some symptom values in training set\n",
    "noise = np.random.binomial(1, 0.05, X_train.shape)  # 5% noise\n",
    "X_train_noisy = np.where(noise == 1, 1 - X_train, X_train)  # flip bits\n"
   ]
  },
  {
   "cell_type": "code",
   "execution_count": 14,
   "id": "15bcfb9f-aca2-4fc4-82eb-ab469f3383fd",
   "metadata": {},
   "outputs": [
    {
     "name": "stdout",
     "output_type": "stream",
     "text": [
      "SVC predictions: ['Malaria' 'Malaria' 'Jaundice' ... 'Diabetes ' 'Allergy' 'Hepatitis E']\n",
      "SVC accuracy: 0.023712737127371274\n",
      "SVC Confusion Matrix:\n",
      "[[0 0 1 ... 2 2 1]\n",
      " [0 0 0 ... 1 1 1]\n",
      " [0 2 0 ... 0 0 2]\n",
      " ...\n",
      " [0 0 0 ... 1 0 0]\n",
      " [1 1 2 ... 0 1 0]\n",
      " [1 0 0 ... 0 0 1]]\n",
      "RandomForest predictions: ['Malaria' 'Malaria' 'Cervical spondylosis' ... 'Hepatitis C'\n",
      " 'Urinary tract infection' 'Hepatitis E']\n",
      "RandomForest accuracy: 0.02100271002710027\n",
      "RandomForest Confusion Matrix:\n",
      "[[0 2 0 ... 3 1 1]\n",
      " [0 0 0 ... 1 1 4]\n",
      " [0 1 0 ... 0 0 5]\n",
      " ...\n",
      " [0 0 1 ... 1 1 1]\n",
      " [0 1 2 ... 0 2 0]\n",
      " [0 1 0 ... 0 0 1]]\n",
      "GradientBoosting predictions: ['Malaria' 'Malaria' 'Cervical spondylosis' ... 'Malaria'\n",
      " 'Urinary tract infection' 'Hepatitis E']\n",
      "GradientBoosting accuracy: 0.02710027100271003\n",
      "GradientBoosting Confusion Matrix:\n",
      "[[0 1 0 ... 2 1 2]\n",
      " [0 0 0 ... 1 1 2]\n",
      " [0 1 0 ... 0 0 4]\n",
      " ...\n",
      " [0 0 1 ... 1 1 0]\n",
      " [1 1 3 ... 0 1 0]\n",
      " [0 0 0 ... 0 0 1]]\n",
      "KNeighbors predictions: ['Acne' 'Arthritis' 'Jaundice' ... 'Dimorphic hemmorhoids(piles)'\n",
      " 'Urinary tract infection' 'GERD']\n",
      "KNeighbors accuracy: 0.028455284552845527\n",
      "KNeighbors Confusion Matrix:\n",
      "[[3 8 0 ... 0 0 1]\n",
      " [2 5 3 ... 0 0 0]\n",
      " [4 7 2 ... 0 0 1]\n",
      " ...\n",
      " [2 4 1 ... 0 0 0]\n",
      " [2 2 4 ... 0 0 0]\n",
      " [4 9 0 ... 0 0 1]]\n",
      "MultinomialNB predictions: ['Malaria' 'Varicose veins' 'Jaundice' ... 'Impetigo' 'Hepatitis B'\n",
      " 'Hepatitis E']\n",
      "MultinomialNB accuracy: 0.027777777777777776\n",
      "MultinomialNB Confusion Matrix:\n",
      "[[0 0 0 ... 2 2 1]\n",
      " [0 1 0 ... 1 1 1]\n",
      " [0 2 0 ... 1 0 2]\n",
      " ...\n",
      " [0 1 0 ... 1 1 0]\n",
      " [0 1 0 ... 0 2 0]\n",
      " [0 1 0 ... 0 0 1]]\n"
     ]
    }
   ],
   "source": [
    "from sklearn.svm import SVC\n",
    "from sklearn.ensemble import RandomForestClassifier, GradientBoostingClassifier\n",
    "from sklearn.neighbors import KNeighborsClassifier\n",
    "from sklearn.naive_bayes import MultinomialNB\n",
    "from sklearn.metrics import accuracy_score, confusion_matrix\n",
    "import numpy as np\n",
    "\n",
    "models = {\n",
    "    \"SVC\": SVC(kernel='linear'),\n",
    "    \"RandomForest\": RandomForestClassifier(n_estimators=100, random_state=42),\n",
    "    \"GradientBoosting\": GradientBoostingClassifier(n_estimators=100, random_state=42),\n",
    "    \"KNeighbors\": KNeighborsClassifier(n_neighbors=5),\n",
    "    \"MultinomialNB\": MultinomialNB()\n",
    "}\n",
    "\n",
    "for model_name, model in models.items():\n",
    "    model.fit(x_train, y_train)\n",
    "    predictions = model.predict(x_test)\n",
    "    print(f\"{model_name} predictions:\", predictions)\n",
    "\n",
    "    # Calculate accuracy\n",
    "    accuracy = accuracy_score(y_test, predictions)\n",
    "\n",
    "    # Calculate confusion matrix\n",
    "    cm = confusion_matrix(y_test, predictions)\n",
    "\n",
    "    print(f\"{model_name} accuracy: {accuracy}\")\n",
    "    print(f\"{model_name} Confusion Matrix:\")\n",
    "    print(np.array2string(cm, separator=' '))"
   ]
  },
  {
   "cell_type": "code",
   "execution_count": 15,
   "id": "c78c3dfd-d010-4f49-b167-6b79f79695bc",
   "metadata": {},
   "outputs": [
    {
     "ename": "NameError",
     "evalue": "name 'user_input' is not defined",
     "output_type": "error",
     "traceback": [
      "\u001b[1;31m---------------------------------------------------------------------------\u001b[0m",
      "\u001b[1;31mNameError\u001b[0m                                 Traceback (most recent call last)",
      "Cell \u001b[1;32mIn[15], line 5\u001b[0m\n\u001b[0;32m      3\u001b[0m knn \u001b[38;5;241m=\u001b[39m KNeighborsClassifier(n_neighbors\u001b[38;5;241m=\u001b[39m\u001b[38;5;241m5\u001b[39m)\n\u001b[0;32m      4\u001b[0m knn\u001b[38;5;241m.\u001b[39mfit(X_train, y_train)\n\u001b[1;32m----> 5\u001b[0m pred \u001b[38;5;241m=\u001b[39m knn\u001b[38;5;241m.\u001b[39mpredict(user_input)\n",
      "\u001b[1;31mNameError\u001b[0m: name 'user_input' is not defined"
     ]
    }
   ],
   "source": [
    "from sklearn.neighbors import KNeighborsClassifier\n",
    "\n",
    "knn = KNeighborsClassifier(n_neighbors=5)\n",
    "knn.fit(X_train, y_train)\n",
    "pred = knn.predict(user_input)"
   ]
  },
  {
   "cell_type": "code",
   "execution_count": 16,
   "id": "d77a0285-cd92-43b5-968d-276e9e3da78d",
   "metadata": {},
   "outputs": [],
   "source": [
    "# Define features (all columns except prognosis)\n",
    "X = df.drop(\"prognosis\", axis=1)\n",
    "\n",
    "# Define target (prognosis column)\n",
    "y = df[\"prognosis\"]\n",
    "\n",
    "# Now do the split\n",
    "from sklearn.model_selection import train_test_split\n",
    "\n",
    "X_train, X_test, y_train, y_test = train_test_split(\n",
    "    X, y, test_size=0.3, random_state=42, shuffle=True, stratify=y\n",
    ")\n"
   ]
  },
  {
   "cell_type": "code",
   "execution_count": 17,
   "id": "5ad1e77b-4eb2-42de-ac00-96332bbcd2f7",
   "metadata": {},
   "outputs": [],
   "source": [
    "import pickle"
   ]
  },
  {
   "cell_type": "code",
   "execution_count": 18,
   "id": "7b017ced-3d0b-4e39-81e8-8d72e8b42b09",
   "metadata": {},
   "outputs": [],
   "source": [
    "svc = pickle.load(open(\"svc.pkl\",'rb'))"
   ]
  },
  {
   "cell_type": "code",
   "execution_count": 19,
   "id": "2147fc0c-3d97-408f-8bdf-04161288f976",
   "metadata": {},
   "outputs": [
    {
     "name": "stdout",
     "output_type": "stream",
     "text": [
      "Predicted Label: [40]\n",
      "Actual Label: Hyperthyroidism\n"
     ]
    },
    {
     "name": "stderr",
     "output_type": "stream",
     "text": [
      "C:\\ProgramData\\anaconda3\\Lib\\site-packages\\sklearn\\utils\\validation.py:2739: UserWarning: X does not have valid feature names, but SVC was fitted with feature names\n",
      "  warnings.warn(\n"
     ]
    }
   ],
   "source": [
    "print(\"Predicted Label:\", svc.predict(x_test.iloc[0].values.reshape(1, -1)))\n",
    "print(\"Actual Label:\", y_test.iloc[0])"
   ]
  },
  {
   "cell_type": "code",
   "execution_count": 20,
   "id": "4513894e-aa74-4d0f-a374-d05132b598d3",
   "metadata": {},
   "outputs": [
    {
     "name": "stdout",
     "output_type": "stream",
     "text": [
      "Predicted Label: [20]\n",
      "Actual Label: Diabetes \n"
     ]
    },
    {
     "name": "stderr",
     "output_type": "stream",
     "text": [
      "C:\\ProgramData\\anaconda3\\Lib\\site-packages\\sklearn\\utils\\validation.py:2739: UserWarning: X does not have valid feature names, but SVC was fitted with feature names\n",
      "  warnings.warn(\n"
     ]
    }
   ],
   "source": [
    "print(\"Predicted Label:\", svc.predict(x_test.iloc[10].values.reshape(1, -1)))\n",
    "print(\"Actual Label:\", y_test.iloc[10])"
   ]
  },
  {
   "cell_type": "code",
   "execution_count": 21,
   "id": "7176e6c9-85ff-4ebb-ae2b-2448574a726a",
   "metadata": {},
   "outputs": [],
   "source": [
    "sym_des=pd.read_csv('symtoms_df.csv')\n",
    "precautions = pd.read_csv(\"precautions_df.csv\")\n",
    "workout = pd.read_csv(\"workout_df.csv\")\n",
    "description = pd.read_csv(\"description_df.csv\")\n",
    "medications = pd.read_csv(\"medications_df.csv\")\n",
    "diets = pd.read_csv(\"diets.csv\")"
   ]
  },
  {
   "cell_type": "code",
   "execution_count": 22,
   "id": "b8ba953b-1067-45c6-a5df-4c45a732c6e3",
   "metadata": {},
   "outputs": [
    {
     "data": {
      "text/html": [
       "<div>\n",
       "<style scoped>\n",
       "    .dataframe tbody tr th:only-of-type {\n",
       "        vertical-align: middle;\n",
       "    }\n",
       "\n",
       "    .dataframe tbody tr th {\n",
       "        vertical-align: top;\n",
       "    }\n",
       "\n",
       "    .dataframe thead th {\n",
       "        text-align: right;\n",
       "    }\n",
       "</style>\n",
       "<table border=\"1\" class=\"dataframe\">\n",
       "  <thead>\n",
       "    <tr style=\"text-align: right;\">\n",
       "      <th></th>\n",
       "      <th>Disease</th>\n",
       "      <th>Diet</th>\n",
       "    </tr>\n",
       "  </thead>\n",
       "  <tbody>\n",
       "    <tr>\n",
       "      <th>0</th>\n",
       "      <td>Fungal infection</td>\n",
       "      <td>['Antifungal Diet', 'Probiotics', 'Garlic', 'C...</td>\n",
       "    </tr>\n",
       "    <tr>\n",
       "      <th>1</th>\n",
       "      <td>Allergy</td>\n",
       "      <td>['Elimination Diet', 'Omega-3-rich foods', 'Vi...</td>\n",
       "    </tr>\n",
       "    <tr>\n",
       "      <th>2</th>\n",
       "      <td>GERD</td>\n",
       "      <td>['Low-Acid Diet', 'Fiber-rich foods', 'Ginger'...</td>\n",
       "    </tr>\n",
       "    <tr>\n",
       "      <th>3</th>\n",
       "      <td>Chronic cholestasis</td>\n",
       "      <td>['Low-Fat Diet', 'High-Fiber Diet', 'Lean prot...</td>\n",
       "    </tr>\n",
       "    <tr>\n",
       "      <th>4</th>\n",
       "      <td>Drug Reaction</td>\n",
       "      <td>['Antihistamine Diet', 'Omega-3-rich foods', '...</td>\n",
       "    </tr>\n",
       "    <tr>\n",
       "      <th>5</th>\n",
       "      <td>Peptic ulcer disease</td>\n",
       "      <td>['Low-Acid Diet', 'Fiber-rich foods', 'Ginger'...</td>\n",
       "    </tr>\n",
       "    <tr>\n",
       "      <th>6</th>\n",
       "      <td>AIDS</td>\n",
       "      <td>['Balanced Diet', 'Protein-rich foods', 'Fruit...</td>\n",
       "    </tr>\n",
       "    <tr>\n",
       "      <th>7</th>\n",
       "      <td>Diabetes</td>\n",
       "      <td>['Low-Glycemic Diet', 'Fiber-rich foods', 'Lea...</td>\n",
       "    </tr>\n",
       "    <tr>\n",
       "      <th>8</th>\n",
       "      <td>Gastroenteritis</td>\n",
       "      <td>['Bland Diet', 'Bananas', 'Rice', 'Applesauce'...</td>\n",
       "    </tr>\n",
       "    <tr>\n",
       "      <th>9</th>\n",
       "      <td>Bronchial Asthma</td>\n",
       "      <td>['Anti-Inflammatory Diet', 'Omega-3-rich foods...</td>\n",
       "    </tr>\n",
       "    <tr>\n",
       "      <th>10</th>\n",
       "      <td>Hypertension</td>\n",
       "      <td>['DASH Diet', 'Low-sodium foods', 'Fruits and ...</td>\n",
       "    </tr>\n",
       "    <tr>\n",
       "      <th>11</th>\n",
       "      <td>Migraine</td>\n",
       "      <td>['Migraine Diet', 'Low-Tyramine Diet', 'Caffei...</td>\n",
       "    </tr>\n",
       "    <tr>\n",
       "      <th>12</th>\n",
       "      <td>Cervical spondylosis</td>\n",
       "      <td>['Arthritis Diet', 'Anti-Inflammatory Diet', '...</td>\n",
       "    </tr>\n",
       "    <tr>\n",
       "      <th>13</th>\n",
       "      <td>Paralysis (brain hemorrhage)</td>\n",
       "      <td>['Heart-Healthy Diet', 'Low-sodium foods', 'Fr...</td>\n",
       "    </tr>\n",
       "    <tr>\n",
       "      <th>14</th>\n",
       "      <td>Jaundice</td>\n",
       "      <td>['Liver-Healthy Diet', 'Low-fat Diet', 'Fruits...</td>\n",
       "    </tr>\n",
       "    <tr>\n",
       "      <th>15</th>\n",
       "      <td>Malaria</td>\n",
       "      <td>['Malaria Diet', 'Hydration', 'High-Calorie Di...</td>\n",
       "    </tr>\n",
       "    <tr>\n",
       "      <th>16</th>\n",
       "      <td>Chicken pox</td>\n",
       "      <td>['Chicken Pox Diet', 'High-Calorie Diet', 'Sof...</td>\n",
       "    </tr>\n",
       "    <tr>\n",
       "      <th>17</th>\n",
       "      <td>Dengue</td>\n",
       "      <td>['Dengue Diet', 'Hydration', 'High-Calorie Die...</td>\n",
       "    </tr>\n",
       "    <tr>\n",
       "      <th>18</th>\n",
       "      <td>Typhoid</td>\n",
       "      <td>['Typhoid Diet', 'High-Calorie Diet', 'Soft an...</td>\n",
       "    </tr>\n",
       "    <tr>\n",
       "      <th>19</th>\n",
       "      <td>hepatitis A</td>\n",
       "      <td>['Hepatitis A Diet', 'High-Calorie Diet', 'Sof...</td>\n",
       "    </tr>\n",
       "    <tr>\n",
       "      <th>20</th>\n",
       "      <td>Hepatitis B</td>\n",
       "      <td>['Hepatitis B Diet', 'High-Calorie Diet', 'Sof...</td>\n",
       "    </tr>\n",
       "    <tr>\n",
       "      <th>21</th>\n",
       "      <td>Hepatitis C</td>\n",
       "      <td>['Hepatitis C Diet', 'High-Calorie Diet', 'Sof...</td>\n",
       "    </tr>\n",
       "    <tr>\n",
       "      <th>22</th>\n",
       "      <td>Hepatitis D</td>\n",
       "      <td>['Hepatitis D Diet', 'High-Calorie Diet', 'Sof...</td>\n",
       "    </tr>\n",
       "    <tr>\n",
       "      <th>23</th>\n",
       "      <td>Hepatitis E</td>\n",
       "      <td>['Hepatitis E Diet', 'High-Calorie Diet', 'Sof...</td>\n",
       "    </tr>\n",
       "    <tr>\n",
       "      <th>24</th>\n",
       "      <td>Alcoholic hepatitis</td>\n",
       "      <td>['Liver-Healthy Diet', 'Low-fat Diet', 'Fruits...</td>\n",
       "    </tr>\n",
       "    <tr>\n",
       "      <th>25</th>\n",
       "      <td>Tuberculosis</td>\n",
       "      <td>['TB Diet', 'High-Calorie Diet', 'Soft and bla...</td>\n",
       "    </tr>\n",
       "    <tr>\n",
       "      <th>26</th>\n",
       "      <td>Common Cold</td>\n",
       "      <td>['Cold Diet', 'Hydration', 'Warm fluids', 'Res...</td>\n",
       "    </tr>\n",
       "    <tr>\n",
       "      <th>27</th>\n",
       "      <td>Pneumonia</td>\n",
       "      <td>['Pneumonia Diet', 'High-Calorie Diet', 'Soft ...</td>\n",
       "    </tr>\n",
       "    <tr>\n",
       "      <th>28</th>\n",
       "      <td>Dimorphic hemmorhoids(piles)</td>\n",
       "      <td>['Hemorrhoids Diet', 'High-Fiber Diet', 'Hydra...</td>\n",
       "    </tr>\n",
       "    <tr>\n",
       "      <th>29</th>\n",
       "      <td>Heart attack</td>\n",
       "      <td>['Heart-Healthy Diet', 'Low-sodium foods', 'Fr...</td>\n",
       "    </tr>\n",
       "    <tr>\n",
       "      <th>30</th>\n",
       "      <td>Varicose veins</td>\n",
       "      <td>['Varicose Veins Diet', 'High-Fiber Diet', 'Fr...</td>\n",
       "    </tr>\n",
       "    <tr>\n",
       "      <th>31</th>\n",
       "      <td>Hypothyroidism</td>\n",
       "      <td>['Hypothyroidism Diet', 'Iodine-rich foods', '...</td>\n",
       "    </tr>\n",
       "    <tr>\n",
       "      <th>32</th>\n",
       "      <td>Hyperthyroidism</td>\n",
       "      <td>['Hyperthyroidism Diet', 'Low-Iodine Diet', 'C...</td>\n",
       "    </tr>\n",
       "    <tr>\n",
       "      <th>33</th>\n",
       "      <td>Hypoglycemia</td>\n",
       "      <td>['Hypoglycemia Diet', 'Complex carbohydrates',...</td>\n",
       "    </tr>\n",
       "    <tr>\n",
       "      <th>34</th>\n",
       "      <td>Osteoarthristis</td>\n",
       "      <td>['Arthritis Diet', 'Anti-Inflammatory Diet', '...</td>\n",
       "    </tr>\n",
       "    <tr>\n",
       "      <th>35</th>\n",
       "      <td>Arthritis</td>\n",
       "      <td>['Arthritis Diet', 'Anti-Inflammatory Diet', '...</td>\n",
       "    </tr>\n",
       "    <tr>\n",
       "      <th>36</th>\n",
       "      <td>(vertigo) Paroymsal Positional Vertigo</td>\n",
       "      <td>['Vertigo Diet', 'Low-Salt Diet', 'Hydration',...</td>\n",
       "    </tr>\n",
       "    <tr>\n",
       "      <th>37</th>\n",
       "      <td>Acne</td>\n",
       "      <td>['Acne Diet', 'Low-Glycemic Diet', 'Hydration'...</td>\n",
       "    </tr>\n",
       "    <tr>\n",
       "      <th>38</th>\n",
       "      <td>Urinary tract infection</td>\n",
       "      <td>['UTI Diet', 'Hydration', 'Cranberry juice', '...</td>\n",
       "    </tr>\n",
       "    <tr>\n",
       "      <th>39</th>\n",
       "      <td>Psoriasis</td>\n",
       "      <td>['Psoriasis Diet', 'Anti-Inflammatory Diet', '...</td>\n",
       "    </tr>\n",
       "    <tr>\n",
       "      <th>40</th>\n",
       "      <td>Impetigo</td>\n",
       "      <td>['Impetigo Diet', 'Antibiotic treatment', 'Fru...</td>\n",
       "    </tr>\n",
       "  </tbody>\n",
       "</table>\n",
       "</div>"
      ],
      "text/plain": [
       "                                   Disease  \\\n",
       "0                         Fungal infection   \n",
       "1                                  Allergy   \n",
       "2                                     GERD   \n",
       "3                      Chronic cholestasis   \n",
       "4                            Drug Reaction   \n",
       "5                     Peptic ulcer disease   \n",
       "6                                     AIDS   \n",
       "7                                 Diabetes   \n",
       "8                          Gastroenteritis   \n",
       "9                         Bronchial Asthma   \n",
       "10                            Hypertension   \n",
       "11                                Migraine   \n",
       "12                    Cervical spondylosis   \n",
       "13            Paralysis (brain hemorrhage)   \n",
       "14                                Jaundice   \n",
       "15                                 Malaria   \n",
       "16                             Chicken pox   \n",
       "17                                  Dengue   \n",
       "18                                 Typhoid   \n",
       "19                             hepatitis A   \n",
       "20                             Hepatitis B   \n",
       "21                             Hepatitis C   \n",
       "22                             Hepatitis D   \n",
       "23                             Hepatitis E   \n",
       "24                     Alcoholic hepatitis   \n",
       "25                            Tuberculosis   \n",
       "26                             Common Cold   \n",
       "27                               Pneumonia   \n",
       "28            Dimorphic hemmorhoids(piles)   \n",
       "29                            Heart attack   \n",
       "30                          Varicose veins   \n",
       "31                          Hypothyroidism   \n",
       "32                         Hyperthyroidism   \n",
       "33                            Hypoglycemia   \n",
       "34                         Osteoarthristis   \n",
       "35                               Arthritis   \n",
       "36  (vertigo) Paroymsal Positional Vertigo   \n",
       "37                                    Acne   \n",
       "38                 Urinary tract infection   \n",
       "39                               Psoriasis   \n",
       "40                                Impetigo   \n",
       "\n",
       "                                                 Diet  \n",
       "0   ['Antifungal Diet', 'Probiotics', 'Garlic', 'C...  \n",
       "1   ['Elimination Diet', 'Omega-3-rich foods', 'Vi...  \n",
       "2   ['Low-Acid Diet', 'Fiber-rich foods', 'Ginger'...  \n",
       "3   ['Low-Fat Diet', 'High-Fiber Diet', 'Lean prot...  \n",
       "4   ['Antihistamine Diet', 'Omega-3-rich foods', '...  \n",
       "5   ['Low-Acid Diet', 'Fiber-rich foods', 'Ginger'...  \n",
       "6   ['Balanced Diet', 'Protein-rich foods', 'Fruit...  \n",
       "7   ['Low-Glycemic Diet', 'Fiber-rich foods', 'Lea...  \n",
       "8   ['Bland Diet', 'Bananas', 'Rice', 'Applesauce'...  \n",
       "9   ['Anti-Inflammatory Diet', 'Omega-3-rich foods...  \n",
       "10  ['DASH Diet', 'Low-sodium foods', 'Fruits and ...  \n",
       "11  ['Migraine Diet', 'Low-Tyramine Diet', 'Caffei...  \n",
       "12  ['Arthritis Diet', 'Anti-Inflammatory Diet', '...  \n",
       "13  ['Heart-Healthy Diet', 'Low-sodium foods', 'Fr...  \n",
       "14  ['Liver-Healthy Diet', 'Low-fat Diet', 'Fruits...  \n",
       "15  ['Malaria Diet', 'Hydration', 'High-Calorie Di...  \n",
       "16  ['Chicken Pox Diet', 'High-Calorie Diet', 'Sof...  \n",
       "17  ['Dengue Diet', 'Hydration', 'High-Calorie Die...  \n",
       "18  ['Typhoid Diet', 'High-Calorie Diet', 'Soft an...  \n",
       "19  ['Hepatitis A Diet', 'High-Calorie Diet', 'Sof...  \n",
       "20  ['Hepatitis B Diet', 'High-Calorie Diet', 'Sof...  \n",
       "21  ['Hepatitis C Diet', 'High-Calorie Diet', 'Sof...  \n",
       "22  ['Hepatitis D Diet', 'High-Calorie Diet', 'Sof...  \n",
       "23  ['Hepatitis E Diet', 'High-Calorie Diet', 'Sof...  \n",
       "24  ['Liver-Healthy Diet', 'Low-fat Diet', 'Fruits...  \n",
       "25  ['TB Diet', 'High-Calorie Diet', 'Soft and bla...  \n",
       "26  ['Cold Diet', 'Hydration', 'Warm fluids', 'Res...  \n",
       "27  ['Pneumonia Diet', 'High-Calorie Diet', 'Soft ...  \n",
       "28  ['Hemorrhoids Diet', 'High-Fiber Diet', 'Hydra...  \n",
       "29  ['Heart-Healthy Diet', 'Low-sodium foods', 'Fr...  \n",
       "30  ['Varicose Veins Diet', 'High-Fiber Diet', 'Fr...  \n",
       "31  ['Hypothyroidism Diet', 'Iodine-rich foods', '...  \n",
       "32  ['Hyperthyroidism Diet', 'Low-Iodine Diet', 'C...  \n",
       "33  ['Hypoglycemia Diet', 'Complex carbohydrates',...  \n",
       "34  ['Arthritis Diet', 'Anti-Inflammatory Diet', '...  \n",
       "35  ['Arthritis Diet', 'Anti-Inflammatory Diet', '...  \n",
       "36  ['Vertigo Diet', 'Low-Salt Diet', 'Hydration',...  \n",
       "37  ['Acne Diet', 'Low-Glycemic Diet', 'Hydration'...  \n",
       "38  ['UTI Diet', 'Hydration', 'Cranberry juice', '...  \n",
       "39  ['Psoriasis Diet', 'Anti-Inflammatory Diet', '...  \n",
       "40  ['Impetigo Diet', 'Antibiotic treatment', 'Fru...  "
      ]
     },
     "execution_count": 22,
     "metadata": {},
     "output_type": "execute_result"
    }
   ],
   "source": [
    "diets"
   ]
  },
  {
   "cell_type": "code",
   "execution_count": 23,
   "id": "7c1cb6ba-f1a7-447a-a08a-05966460ad4e",
   "metadata": {},
   "outputs": [],
   "source": [
    "def helper(dis):\n",
    "    desc = description[description['Disease'] == predicted_disease]['Description']\n",
    "    desc = \" \".join([w for w in desc])\n",
    "\n",
    "    pre = precautions[precautions['Disease'] == dis][['Precaution_1', 'Precaution_2', 'Precaution_3', 'Precaution_4']]\n",
    "    pre = [col for col in pre.values]\n",
    "\n",
    "    med = medications[medications['Disease'] == dis]['Medication']\n",
    "    med = [med for med in med.values]\n",
    "\n",
    "    die = diets[diets['Disease'] == dis]['Diet']\n",
    "    die = [die for die in die.values]\n",
    "\n",
    "    wrkout = workout[workout['disease'] == dis] ['workout']\n",
    "\n",
    "\n",
    "    return desc,pre,med,die,wrkout\n",
    "symptoms_dict = {'itching': 0, 'skin_rash': 1, 'nodal_skin_eruptions': 2, 'continuous_sneezing': 3, 'shivering': 4, 'chills': 5, 'joint_pain': 6, 'stomach_pain': 7, 'acidity': 8, 'ulcers_on_tongue': 9, 'muscle_wasting': 10, 'vomiting': 11, 'burning_micturition': 12, 'spotting_ urination': 13, 'fatigue': 14, 'weight_gain': 15, 'anxiety': 16, 'cold_hands_and_feets': 17, 'mood_swings': 18, 'weight_loss': 19, 'restlessness': 20, 'lethargy': 21, 'patches_in_throat': 22, 'irregular_sugar_level': 23, 'cough': 24, 'high_fever': 25, 'sunken_eyes': 26, 'breathlessness': 27, 'sweating': 28, 'dehydration': 29, 'indigestion': 30, 'headache': 31, 'yellowish_skin': 32, 'dark_urine': 33, 'nausea': 34, 'loss_of_appetite': 35, 'pain_behind_the_eyes': 36, 'back_pain': 37, 'constipation': 38, 'abdominal_pain': 39, 'diarrhoea': 40, 'mild_fever': 41, 'yellow_urine': 42, 'yellowing_of_eyes': 43, 'acute_liver_failure': 44, 'fluid_overload': 45, 'swelling_of_stomach': 46, 'swelled_lymph_nodes': 47, 'malaise': 48, 'blurred_and_distorted_vision': 49, 'phlegm': 50, 'throat_irritation': 51, 'redness_of_eyes': 52, 'sinus_pressure': 53, 'runny_nose': 54, 'congestion': 55, 'chest_pain': 56, 'weakness_in_limbs': 57, 'fast_heart_rate': 58, 'pain_during_bowel_movements': 59, 'pain_in_anal_region': 60, 'bloody_stool': 61, 'irritation_in_anus': 62, 'neck_pain': 63, 'dizziness': 64, 'cramps': 65, 'bruising': 66, 'obesity': 67, 'swollen_legs': 68, 'swollen_blood_vessels': 69, 'puffy_face_and_eyes': 70, 'enlarged_thyroid': 71, 'brittle_nails': 72, 'swollen_extremeties': 73, 'excessive_hunger': 74, 'extra_marital_contacts': 75, 'drying_and_tingling_lips': 76, 'slurred_speech': 77, 'knee_pain': 78, 'hip_joint_pain': 79, 'muscle_weakness': 80, 'stiff_neck': 81, 'swelling_joints': 82, 'movement_stiffness': 83, 'spinning_movements': 84, 'loss_of_balance': 85, 'unsteadiness': 86, 'weakness_of_one_body_side': 87, 'loss_of_smell': 88, 'bladder_discomfort': 89, 'foul_smell_of urine': 90, 'continuous_feel_of_urine': 91, 'passage_of_gases': 92, 'internal_itching': 93, 'toxic_look_(typhos)': 94, 'depression': 95, 'irritability': 96, 'muscle_pain': 97, 'altered_sensorium': 98, 'red_spots_over_body': 99, 'belly_pain': 100, 'abnormal_menstruation': 101, 'dischromic _patches': 102, 'watering_from_eyes': 103, 'increased_appetite': 104, 'polyuria': 105, 'family_history': 106, 'mucoid_sputum': 107, 'rusty_sputum': 108, 'lack_of_concentration': 109, 'visual_disturbances': 110, 'receiving_blood_transfusion': 111, 'receiving_unsterile_injections': 112, 'coma': 113, 'stomach_bleeding': 114, 'distention_of_abdomen': 115, 'history_of_alcohol_consumption': 116, 'fluid_overload.1': 117, 'blood_in_sputum': 118, 'prominent_veins_on_calf': 119, 'palpitations': 120, 'painful_walking': 121, 'pus_filled_pimples': 122, 'blackheads': 123, 'scurring': 124, 'skin_peeling': 125, 'silver_like_dusting': 126, 'small_dents_in_nails': 127, 'inflammatory_nails': 128, 'blister': 129, 'red_sore_around_nose': 130, 'yellow_crust_ooze': 131}\n",
    "diseases_list = {15: 'Fungal infection', 4: 'Allergy', 16: 'GERD', 9: 'Chronic cholestasis', 14: 'Drug Reaction', 33: 'Peptic ulcer diseae', 1: 'AIDS', 12: 'Diabetes ', 17: 'Gastroenteritis', 6: 'Bronchial Asthma', 23: 'Hypertension ', 30: 'Migraine', 7: 'Cervical spondylosis', 32: 'Paralysis (brain hemorrhage)', 28: 'Jaundice', 29: 'Malaria', 8: 'Chicken pox', 11: 'Dengue', 37: 'Typhoid', 40: 'hepatitis A', 19: 'Hepatitis B', 20: 'Hepatitis C', 21: 'Hepatitis D', 22: 'Hepatitis E', 3: 'Alcoholic hepatitis', 36: 'Tuberculosis', 10: 'Common Cold', 34: 'Pneumonia', 13: 'Dimorphic hemmorhoids(piles)', 18: 'Heart attack', 39: 'Varicose veins', 26: 'Hypothyroidism', 24: 'Hyperthyroidism', 25: 'Hypoglycemia', 31: 'Osteoarthristis', 5: 'Arthritis', 0: '(vertigo) Paroymsal  Positional Vertigo', 2: 'Acne', 38: 'Urinary tract infection', 35: 'Psoriasis', 27: 'Impetigo'}\n",
    "def get_predicted_value(patient_symptoms):\n",
    "    input_vector = np.zeros(len(symptoms_dict))\n",
    "\n",
    "    for item in patient_symptoms:\n",
    "        input_vector[symptoms_dict[item]] = 1\n",
    "    return diseases_list[svc.predict([input_vector])[0]]"
   ]
  },
  {
   "cell_type": "code",
   "execution_count": 24,
   "id": "b61e0542-2f64-446a-b8b3-4d07df711b88",
   "metadata": {},
   "outputs": [
    {
     "name": "stdin",
     "output_type": "stream",
     "text": [
      "Enter your symptoms....... itching\n"
     ]
    },
    {
     "name": "stdout",
     "output_type": "stream",
     "text": [
      "=================predicted disease============\n",
      "Fungal infection\n",
      "=================description==================\n",
      "Fungal infection is a common skin condition caused by fungi.\n",
      "=================precautions==================\n",
      "1 :  bath twice\n",
      "2 :  use detol or neem in bathing water\n",
      "3 :  keep infected area dry\n",
      "4 :  use clean cloths\n",
      "=================medications==================\n",
      "5 :  ['Antifungal Cream', 'Fluconazole', 'Terbinafine', 'Clotrimazole', 'Ketoconazole']\n",
      "=================workout==================\n",
      "6 :  Avoid sugary foods\n",
      "7 :  Consume probiotics\n",
      "8 :  Increase intake of garlic\n",
      "9 :  Include yogurt in diet\n",
      "10 :  Limit processed foods\n",
      "11 :  Stay hydrated\n",
      "12 :  Consume green tea\n",
      "13 :  Eat foods rich in zinc\n",
      "14 :  Include turmeric in diet\n",
      "15 :  Eat fruits and vegetables\n",
      "=================diets==================\n",
      "16 :  ['Antifungal Diet', 'Probiotics', 'Garlic', 'Coconut oil', 'Turmeric']\n"
     ]
    },
    {
     "name": "stderr",
     "output_type": "stream",
     "text": [
      "C:\\ProgramData\\anaconda3\\Lib\\site-packages\\sklearn\\utils\\validation.py:2739: UserWarning: X does not have valid feature names, but SVC was fitted with feature names\n",
      "  warnings.warn(\n"
     ]
    }
   ],
   "source": [
    "\n",
    "# Test 1\n",
    "# Split the user's input into a list of symptoms (assuming they are comma-separated) # itching,skin_rash,nodal_skin_eruptions\n",
    "symptoms = input(\"Enter your symptoms.......\")\n",
    "user_symptoms = [s.strip() for s in symptoms.split(',')]\n",
    "# Remove any extra characters, if any\n",
    "user_symptoms = [symptom.strip(\"[]' \") for symptom in user_symptoms]\n",
    "predicted_disease = get_predicted_value(user_symptoms)\n",
    "\n",
    "desc, pre, med, die, wrkout = helper(predicted_disease)\n",
    "\n",
    "print(\"=================predicted disease============\")\n",
    "print(predicted_disease)\n",
    "print(\"=================description==================\")\n",
    "print(desc)\n",
    "print(\"=================precautions==================\")\n",
    "i = 1\n",
    "for p_i in pre[0]:\n",
    "    print(i, \": \", p_i)\n",
    "    i += 1\n",
    "\n",
    "print(\"=================medications==================\")\n",
    "for m_i in med:\n",
    "    print(i, \": \", m_i)\n",
    "    i += 1\n",
    "\n",
    "print(\"=================workout==================\")\n",
    "for w_i in wrkout:\n",
    "    print(i, \": \", w_i)\n",
    "    i += 1\n",
    "\n",
    "print(\"=================diets==================\")\n",
    "for d_i in die:\n",
    "    print(i, \": \", d_i)\n",
    "    i += 1"
   ]
  },
  {
   "cell_type": "code",
   "execution_count": 27,
   "id": "06c80133-bc2d-45a5-b77a-c77b602ff6ef",
   "metadata": {},
   "outputs": [
    {
     "name": "stderr",
     "output_type": "stream",
     "text": [
      "C:\\Users\\Bhumi\\AppData\\Local\\Temp\\ipykernel_20776\\1871809725.py:4: FutureWarning: \n",
      "\n",
      "Passing `palette` without assigning `hue` is deprecated and will be removed in v0.14.0. Assign the `y` variable to `hue` and set `legend=False` for the same effect.\n",
      "\n",
      "  sns.barplot(x=symptom_counts.values, y=symptom_counts.index, palette=\"magma\")\n"
     ]
    },
    {
     "data": {
      "image/png": "[encoded data removed]",
      "text/plain": [
       "<Figure size 1200x600 with 1 Axes>"
      ]
     },
     "metadata": {},
     "output_type": "display_data"
    }
   ],
   "source": [
    "symptom_counts = df.drop('prognosis', axis=1).sum().sort_values(ascending=False)[:20]\n",
    "\n",
    "plt.figure(figsize=(12,6))\n",
    "sns.barplot(x=symptom_counts.values, y=symptom_counts.index, palette=\"magma\")\n",
    "plt.title(\"Top 20 Most Common Symptoms\")\n",
    "plt.xlabel(\"Frequency\")\n",
    "plt.ylabel(\"Symptoms\")\n",
    "plt.show()"
   ]
  },
  {
   "cell_type": "code",
   "execution_count": null,
   "id": "7a52f7c0-f02d-4895-8f45-2094fea6d7bf",
   "metadata": {},
   "outputs": [],
   "source": []
  }
 ],
 "metadata": {
  "kernelspec": {
   "display_name": "Python 3 (ipykernel)",
   "language": "python",
   "name": "python3"
  },
  "language_info": {
   "codemirror_mode": {
    "name": "ipython",
    "version": 3
   },
   "file_extension": ".py",
   "mimetype": "text/x-python",
   "name": "python",
   "nbconvert_exporter": "python",
   "pygments_lexer": "ipython3",
   "version": "3.13.5"
  }
 },
 "nbformat": 4,
 "nbformat_minor": 5
}
